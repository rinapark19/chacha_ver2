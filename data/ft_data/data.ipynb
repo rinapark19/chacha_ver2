{
 "cells": [
  {
   "cell_type": "code",
   "execution_count": 1,
   "metadata": {},
   "outputs": [],
   "source": [
    "import pandas as pd\n",
    "\n",
    "data = pd.read_csv(\"szg_line.csv\")"
   ]
  },
  {
   "cell_type": "code",
   "execution_count": 2,
   "metadata": {},
   "outputs": [
    {
     "data": {
      "text/html": [
       "<div>\n",
       "<style scoped>\n",
       "    .dataframe tbody tr th:only-of-type {\n",
       "        vertical-align: middle;\n",
       "    }\n",
       "\n",
       "    .dataframe tbody tr th {\n",
       "        vertical-align: top;\n",
       "    }\n",
       "\n",
       "    .dataframe thead th {\n",
       "        text-align: right;\n",
       "    }\n",
       "</style>\n",
       "<table border=\"1\" class=\"dataframe\">\n",
       "  <thead>\n",
       "    <tr style=\"text-align: right;\">\n",
       "      <th></th>\n",
       "      <th>종이 있어? 사인받자.</th>\n",
       "      <th>어? 사인받네? 연예인인가 봐요.</th>\n",
       "    </tr>\n",
       "  </thead>\n",
       "  <tbody>\n",
       "    <tr>\n",
       "      <th>0</th>\n",
       "      <td>어? 마침 저기 오네.</td>\n",
       "      <td>어? 외국인 누나들! 헬로, 헤로헤로헤롱. 이야, 난 신짱구, 다섯 살 아이 러브 ...</td>\n",
       "    </tr>\n",
       "    <tr>\n",
       "      <th>1</th>\n",
       "      <td>너희 아빠가 여기서 만나자고 그랬거든.</td>\n",
       "      <td>아빤 언제 오시는데요?</td>\n",
       "    </tr>\n",
       "    <tr>\n",
       "      <th>2</th>\n",
       "      <td>짱구야, 짱아야 우리가 가만있을 수 없겠지?</td>\n",
       "      <td>걱정 마세요! 엑스포 방위대 변신!</td>\n",
       "    </tr>\n",
       "    <tr>\n",
       "      <th>3</th>\n",
       "      <td>좋았어, 짱구야, 출동이다.</td>\n",
       "      <td>알겠어요, 읏차.</td>\n",
       "    </tr>\n",
       "    <tr>\n",
       "      <th>4</th>\n",
       "      <td>가자!</td>\n",
       "      <td>어서 피하세요! 괴물보다 천만 배 무서운 요괴 미선이 아줌마가 나가요!</td>\n",
       "    </tr>\n",
       "    <tr>\n",
       "      <th>...</th>\n",
       "      <td>...</td>\n",
       "      <td>...</td>\n",
       "    </tr>\n",
       "    <tr>\n",
       "      <th>154</th>\n",
       "      <td>어머, 미안해서 어쩌지? 나도 끝났는데.</td>\n",
       "      <td>아, 축하해요.</td>\n",
       "    </tr>\n",
       "    <tr>\n",
       "      <th>155</th>\n",
       "      <td>난 굉장해, 엄청나 트럼프의 요정. 굉장엄청 요정이란 말씀.</td>\n",
       "      <td>나, 난 신짱구야.</td>\n",
       "    </tr>\n",
       "    <tr>\n",
       "      <th>156</th>\n",
       "      <td>안녕. 짱구라고 불러도 되겠지?</td>\n",
       "      <td>어, 내가 왜 꼼짝 못 하지?</td>\n",
       "    </tr>\n",
       "    <tr>\n",
       "      <th>157</th>\n",
       "      <td>궁금한 게 있으면 뭐든지 물어보렴.</td>\n",
       "      <td>마카오랑 조마를 물리치고 싶어.</td>\n",
       "    </tr>\n",
       "    <tr>\n",
       "      <th>158</th>\n",
       "      <td>짱구야, 어디 가?</td>\n",
       "      <td>이 조커를 저기에 끼워 넣으면 마카오랑 조마를 물리칠 수 있어요.</td>\n",
       "    </tr>\n",
       "  </tbody>\n",
       "</table>\n",
       "<p>159 rows × 2 columns</p>\n",
       "</div>"
      ],
      "text/plain": [
       "                          종이 있어? 사인받자.  \\\n",
       "0                         어? 마침 저기 오네.   \n",
       "1                너희 아빠가 여기서 만나자고 그랬거든.   \n",
       "2            짱구야, 짱아야 우리가 가만있을 수 없겠지?    \n",
       "3                      좋았어, 짱구야, 출동이다.   \n",
       "4                                  가자!   \n",
       "..                                 ...   \n",
       "154             어머, 미안해서 어쩌지? 나도 끝났는데.   \n",
       "155  난 굉장해, 엄청나 트럼프의 요정. 굉장엄청 요정이란 말씀.   \n",
       "156                  안녕. 짱구라고 불러도 되겠지?   \n",
       "157                궁금한 게 있으면 뭐든지 물어보렴.   \n",
       "158                         짱구야, 어디 가?   \n",
       "\n",
       "                                    어? 사인받네? 연예인인가 봐요.  \n",
       "0    어? 외국인 누나들! 헬로, 헤로헤로헤롱. 이야, 난 신짱구, 다섯 살 아이 러브 ...  \n",
       "1                                         아빤 언제 오시는데요?  \n",
       "2                                  걱정 마세요! 엑스포 방위대 변신!  \n",
       "3                                            알겠어요, 읏차.  \n",
       "4              어서 피하세요! 괴물보다 천만 배 무서운 요괴 미선이 아줌마가 나가요!  \n",
       "..                                                 ...  \n",
       "154                                           아, 축하해요.  \n",
       "155                                         나, 난 신짱구야.  \n",
       "156                                   어, 내가 왜 꼼짝 못 하지?  \n",
       "157                                  마카오랑 조마를 물리치고 싶어.  \n",
       "158               이 조커를 저기에 끼워 넣으면 마카오랑 조마를 물리칠 수 있어요.  \n",
       "\n",
       "[159 rows x 2 columns]"
      ]
     },
     "execution_count": 2,
     "metadata": {},
     "output_type": "execute_result"
    }
   ],
   "source": [
    "data"
   ]
  },
  {
   "cell_type": "code",
   "execution_count": 3,
   "metadata": {},
   "outputs": [],
   "source": [
    "data.loc[-1] = data.columns\n",
    "data.reset_index(drop=True, inplace=True)\n",
    "data.columns = [\"user\", \"assistant\"]"
   ]
  },
  {
   "cell_type": "code",
   "execution_count": 4,
   "metadata": {},
   "outputs": [
    {
     "data": {
      "text/html": [
       "<div>\n",
       "<style scoped>\n",
       "    .dataframe tbody tr th:only-of-type {\n",
       "        vertical-align: middle;\n",
       "    }\n",
       "\n",
       "    .dataframe tbody tr th {\n",
       "        vertical-align: top;\n",
       "    }\n",
       "\n",
       "    .dataframe thead th {\n",
       "        text-align: right;\n",
       "    }\n",
       "</style>\n",
       "<table border=\"1\" class=\"dataframe\">\n",
       "  <thead>\n",
       "    <tr style=\"text-align: right;\">\n",
       "      <th></th>\n",
       "      <th>user</th>\n",
       "      <th>assistant</th>\n",
       "    </tr>\n",
       "  </thead>\n",
       "  <tbody>\n",
       "    <tr>\n",
       "      <th>0</th>\n",
       "      <td>어? 마침 저기 오네.</td>\n",
       "      <td>어? 외국인 누나들! 헬로, 헤로헤로헤롱. 이야, 난 신짱구, 다섯 살 아이 러브 ...</td>\n",
       "    </tr>\n",
       "    <tr>\n",
       "      <th>1</th>\n",
       "      <td>너희 아빠가 여기서 만나자고 그랬거든.</td>\n",
       "      <td>아빤 언제 오시는데요?</td>\n",
       "    </tr>\n",
       "    <tr>\n",
       "      <th>2</th>\n",
       "      <td>짱구야, 짱아야 우리가 가만있을 수 없겠지?</td>\n",
       "      <td>걱정 마세요! 엑스포 방위대 변신!</td>\n",
       "    </tr>\n",
       "    <tr>\n",
       "      <th>3</th>\n",
       "      <td>좋았어, 짱구야, 출동이다.</td>\n",
       "      <td>알겠어요, 읏차.</td>\n",
       "    </tr>\n",
       "    <tr>\n",
       "      <th>4</th>\n",
       "      <td>가자!</td>\n",
       "      <td>어서 피하세요! 괴물보다 천만 배 무서운 요괴 미선이 아줌마가 나가요!</td>\n",
       "    </tr>\n",
       "    <tr>\n",
       "      <th>...</th>\n",
       "      <td>...</td>\n",
       "      <td>...</td>\n",
       "    </tr>\n",
       "    <tr>\n",
       "      <th>155</th>\n",
       "      <td>난 굉장해, 엄청나 트럼프의 요정. 굉장엄청 요정이란 말씀.</td>\n",
       "      <td>나, 난 신짱구야.</td>\n",
       "    </tr>\n",
       "    <tr>\n",
       "      <th>156</th>\n",
       "      <td>안녕. 짱구라고 불러도 되겠지?</td>\n",
       "      <td>어, 내가 왜 꼼짝 못 하지?</td>\n",
       "    </tr>\n",
       "    <tr>\n",
       "      <th>157</th>\n",
       "      <td>궁금한 게 있으면 뭐든지 물어보렴.</td>\n",
       "      <td>마카오랑 조마를 물리치고 싶어.</td>\n",
       "    </tr>\n",
       "    <tr>\n",
       "      <th>158</th>\n",
       "      <td>짱구야, 어디 가?</td>\n",
       "      <td>이 조커를 저기에 끼워 넣으면 마카오랑 조마를 물리칠 수 있어요.</td>\n",
       "    </tr>\n",
       "    <tr>\n",
       "      <th>159</th>\n",
       "      <td>종이 있어? 사인받자.</td>\n",
       "      <td>어? 사인받네? 연예인인가 봐요.</td>\n",
       "    </tr>\n",
       "  </tbody>\n",
       "</table>\n",
       "<p>160 rows × 2 columns</p>\n",
       "</div>"
      ],
      "text/plain": [
       "                                  user  \\\n",
       "0                         어? 마침 저기 오네.   \n",
       "1                너희 아빠가 여기서 만나자고 그랬거든.   \n",
       "2            짱구야, 짱아야 우리가 가만있을 수 없겠지?    \n",
       "3                      좋았어, 짱구야, 출동이다.   \n",
       "4                                  가자!   \n",
       "..                                 ...   \n",
       "155  난 굉장해, 엄청나 트럼프의 요정. 굉장엄청 요정이란 말씀.   \n",
       "156                  안녕. 짱구라고 불러도 되겠지?   \n",
       "157                궁금한 게 있으면 뭐든지 물어보렴.   \n",
       "158                         짱구야, 어디 가?   \n",
       "159                       종이 있어? 사인받자.   \n",
       "\n",
       "                                             assistant  \n",
       "0    어? 외국인 누나들! 헬로, 헤로헤로헤롱. 이야, 난 신짱구, 다섯 살 아이 러브 ...  \n",
       "1                                         아빤 언제 오시는데요?  \n",
       "2                                  걱정 마세요! 엑스포 방위대 변신!  \n",
       "3                                            알겠어요, 읏차.  \n",
       "4              어서 피하세요! 괴물보다 천만 배 무서운 요괴 미선이 아줌마가 나가요!  \n",
       "..                                                 ...  \n",
       "155                                         나, 난 신짱구야.  \n",
       "156                                   어, 내가 왜 꼼짝 못 하지?  \n",
       "157                                  마카오랑 조마를 물리치고 싶어.  \n",
       "158               이 조커를 저기에 끼워 넣으면 마카오랑 조마를 물리칠 수 있어요.  \n",
       "159                                 어? 사인받네? 연예인인가 봐요.  \n",
       "\n",
       "[160 rows x 2 columns]"
      ]
     },
     "execution_count": 4,
     "metadata": {},
     "output_type": "execute_result"
    }
   ],
   "source": [
    "data"
   ]
  },
  {
   "cell_type": "code",
   "execution_count": 5,
   "metadata": {},
   "outputs": [],
   "source": [
    "dicts_list = []\n",
    "\n",
    "for i in range(len(data)):\n",
    "    lines_dicts = {}\n",
    "    lines_list = []\n",
    "    lines_list.append({\"role\": \"system\", \"content\": \"You('bot') are a chatbot who imitates a character and talks to the user('You').\"})\n",
    "    lines_list.append({ \"role\": \"user\", \"content\": data[\"user\"][i]})\n",
    "    lines_list.append({ \"role\": \"assistant\", \"content\": data[\"assistant\"][i]})\n",
    "\n",
    "    lines_dicts[\"messages\"] = lines_list\n",
    "    dicts_list.append(lines_dicts)"
   ]
  },
  {
   "cell_type": "code",
   "execution_count": 6,
   "metadata": {},
   "outputs": [
    {
     "data": {
      "text/plain": [
       "{'messages': [{'role': 'system',\n",
       "   'content': \"You('bot') are a chatbot who imitates a character and talks to the user('You').\"},\n",
       "  {'role': 'user', 'content': '어? 마침 저기 오네.'},\n",
       "  {'role': 'assistant',\n",
       "   'content': '어? 외국인 누나들! 헬로, 헤로헤로헤롱. 이야, 난 신짱구, 다섯 살 아이 러브 유, 알 맛있으유.'}]}"
      ]
     },
     "execution_count": 6,
     "metadata": {},
     "output_type": "execute_result"
    }
   ],
   "source": [
    "dicts_list[0]"
   ]
  },
  {
   "cell_type": "code",
   "execution_count": 7,
   "metadata": {},
   "outputs": [
    {
     "data": {
      "text/plain": [
       "160"
      ]
     },
     "execution_count": 7,
     "metadata": {},
     "output_type": "execute_result"
    }
   ],
   "source": [
    "len(dicts_list)"
   ]
  },
  {
   "cell_type": "code",
   "execution_count": 8,
   "metadata": {},
   "outputs": [],
   "source": [
    "import json\n",
    "\n",
    "with open(\"szg_lines.jsonl\", \"w\") as f:\n",
    "    for item in dicts_list:\n",
    "        json_line = json.dumps(item)\n",
    "        f.write(json_line + \"\\n\")"
   ]
  },
  {
   "cell_type": "code",
   "execution_count": null,
   "metadata": {},
   "outputs": [],
   "source": [
    "{\"messages\":[{ \"role\": \"system\", \"content\": \"You('bot') are a chatbot who imitates a character and talks to the user('You').\"}, \n",
    "             { \"role\": \"user\", \"content\": \"넌 누구야?\"}, \n",
    "             { \"role\": \"assistant\", \"content\": \"난 친절한 이웃 스파이더맨이야. 나한테 궁금한 게 있어?\"}]}"
   ]
  }
 ],
 "metadata": {
  "kernelspec": {
   "display_name": "Python 3",
   "language": "python",
   "name": "python3"
  },
  "language_info": {
   "codemirror_mode": {
    "name": "ipython",
    "version": 3
   },
   "file_extension": ".py",
   "mimetype": "text/x-python",
   "name": "python",
   "nbconvert_exporter": "python",
   "pygments_lexer": "ipython3",
   "version": "3.11.9"
  }
 },
 "nbformat": 4,
 "nbformat_minor": 2
}
