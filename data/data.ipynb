{
 "cells": [
  {
   "cell_type": "code",
   "execution_count": 1,
   "metadata": {},
   "outputs": [],
   "source": [
    "import pandas as pd\n",
    "\n",
    "data = pd.read_csv(\"data/line.tsv\", sep=\"\\t\")"
   ]
  },
  {
   "cell_type": "code",
   "execution_count": 2,
   "metadata": {},
   "outputs": [
    {
     "data": {
      "text/html": [
       "<div>\n",
       "<style scoped>\n",
       "    .dataframe tbody tr th:only-of-type {\n",
       "        vertical-align: middle;\n",
       "    }\n",
       "\n",
       "    .dataframe tbody tr th {\n",
       "        vertical-align: top;\n",
       "    }\n",
       "\n",
       "    .dataframe thead th {\n",
       "        text-align: right;\n",
       "    }\n",
       "</style>\n",
       "<table border=\"1\" class=\"dataframe\">\n",
       "  <thead>\n",
       "    <tr style=\"text-align: right;\">\n",
       "      <th></th>\n",
       "      <th>당분간 삼촌이랑 숙모랑 사는 거야.</th>\n",
       "      <th>나도 같이 갈래.</th>\n",
       "    </tr>\n",
       "  </thead>\n",
       "  <tbody>\n",
       "    <tr>\n",
       "      <th>0</th>\n",
       "      <td>굿 모닝, 파커.</td>\n",
       "      <td>굿 모닝, 플래시.</td>\n",
       "    </tr>\n",
       "    <tr>\n",
       "      <th>1</th>\n",
       "      <td>얘, 네가 피터지?</td>\n",
       "      <td>응, 내 이름은 피터야.</td>\n",
       "    </tr>\n",
       "    <tr>\n",
       "      <th>2</th>\n",
       "      <td>사진 잘 찍더라.</td>\n",
       "      <td>고마워.</td>\n",
       "    </tr>\n",
       "    <tr>\n",
       "      <th>3</th>\n",
       "      <td>금요일 밤에 바빠?</td>\n",
       "      <td>아니.</td>\n",
       "    </tr>\n",
       "    <tr>\n",
       "      <th>4</th>\n",
       "      <td>잘됐다. 내 남자친구 차 사진 찍어 줄래? 액자에 넣어서 생일선물로 주려고.</td>\n",
       "      <td>그거 괜찮네. 좋은 아이디어야. 시간 되는지 봐서 알려줄게.</td>\n",
       "    </tr>\n",
       "    <tr>\n",
       "      <th>...</th>\n",
       "      <td>...</td>\n",
       "      <td>...</td>\n",
       "    </tr>\n",
       "    <tr>\n",
       "      <th>195</th>\n",
       "      <td>어디 가?</td>\n",
       "      <td>그냥... 시리얼 먹으려고요.</td>\n",
       "    </tr>\n",
       "    <tr>\n",
       "      <th>196</th>\n",
       "      <td>안녕, 스파이더맨. 돌아올 줄 알았어요.</td>\n",
       "      <td>대신 나서줘서 고마워. 세상에서 제일 용감한 꼬마네. 내게 맡기고 엄마한테 가, 알았지?</td>\n",
       "    </tr>\n",
       "    <tr>\n",
       "      <th>197</th>\n",
       "      <td>덤빌 거냐? 자신 있으면 덤벼!</td>\n",
       "      <td>뉴욕 시민들과 진짜 코뿔소들을 대신해서 경고하는데 그 쇳덩이 앞발을 들고 항복하는 ...</td>\n",
       "    </tr>\n",
       "    <tr>\n",
       "      <th>198</th>\n",
       "      <td>웃기지 마! 널 부숴버리겠다. 죽여 주마!</td>\n",
       "      <td>날 죽일 수 있게 가까이 오라고?</td>\n",
       "    </tr>\n",
       "    <tr>\n",
       "      <th>199</th>\n",
       "      <td>그래!</td>\n",
       "      <td>금방 갈게, 고향에 돌아온 기분이네.</td>\n",
       "    </tr>\n",
       "  </tbody>\n",
       "</table>\n",
       "<p>200 rows × 2 columns</p>\n",
       "</div>"
      ],
      "text/plain": [
       "                            당분간 삼촌이랑 숙모랑 사는 거야.  \\\n",
       "0                                     굿 모닝, 파커.   \n",
       "1                                    얘, 네가 피터지?   \n",
       "2                                     사진 잘 찍더라.   \n",
       "3                                    금요일 밤에 바빠?   \n",
       "4    잘됐다. 내 남자친구 차 사진 찍어 줄래? 액자에 넣어서 생일선물로 주려고.   \n",
       "..                                          ...   \n",
       "195                                       어디 가?   \n",
       "196                      안녕, 스파이더맨. 돌아올 줄 알았어요.   \n",
       "197                           덤빌 거냐? 자신 있으면 덤벼!   \n",
       "198                     웃기지 마! 널 부숴버리겠다. 죽여 주마!   \n",
       "199                                         그래!   \n",
       "\n",
       "                                             나도 같이 갈래.  \n",
       "0                                           굿 모닝, 플래시.  \n",
       "1                                        응, 내 이름은 피터야.  \n",
       "2                                                 고마워.  \n",
       "3                                                  아니.  \n",
       "4                    그거 괜찮네. 좋은 아이디어야. 시간 되는지 봐서 알려줄게.  \n",
       "..                                                 ...  \n",
       "195                                   그냥... 시리얼 먹으려고요.  \n",
       "196  대신 나서줘서 고마워. 세상에서 제일 용감한 꼬마네. 내게 맡기고 엄마한테 가, 알았지?  \n",
       "197  뉴욕 시민들과 진짜 코뿔소들을 대신해서 경고하는데 그 쇳덩이 앞발을 들고 항복하는 ...  \n",
       "198                                 날 죽일 수 있게 가까이 오라고?  \n",
       "199                               금방 갈게, 고향에 돌아온 기분이네.  \n",
       "\n",
       "[200 rows x 2 columns]"
      ]
     },
     "execution_count": 2,
     "metadata": {},
     "output_type": "execute_result"
    }
   ],
   "source": [
    "data"
   ]
  },
  {
   "cell_type": "code",
   "execution_count": 3,
   "metadata": {},
   "outputs": [],
   "source": [
    "data.loc[-1] = data.columns\n",
    "data.reset_index(drop=True, inplace=True)\n",
    "data.columns = [\"user\", \"assistant\"]"
   ]
  },
  {
   "cell_type": "code",
   "execution_count": 4,
   "metadata": {},
   "outputs": [
    {
     "data": {
      "text/html": [
       "<div>\n",
       "<style scoped>\n",
       "    .dataframe tbody tr th:only-of-type {\n",
       "        vertical-align: middle;\n",
       "    }\n",
       "\n",
       "    .dataframe tbody tr th {\n",
       "        vertical-align: top;\n",
       "    }\n",
       "\n",
       "    .dataframe thead th {\n",
       "        text-align: right;\n",
       "    }\n",
       "</style>\n",
       "<table border=\"1\" class=\"dataframe\">\n",
       "  <thead>\n",
       "    <tr style=\"text-align: right;\">\n",
       "      <th></th>\n",
       "      <th>user</th>\n",
       "      <th>assistant</th>\n",
       "    </tr>\n",
       "  </thead>\n",
       "  <tbody>\n",
       "    <tr>\n",
       "      <th>0</th>\n",
       "      <td>굿 모닝, 파커.</td>\n",
       "      <td>굿 모닝, 플래시.</td>\n",
       "    </tr>\n",
       "    <tr>\n",
       "      <th>1</th>\n",
       "      <td>얘, 네가 피터지?</td>\n",
       "      <td>응, 내 이름은 피터야.</td>\n",
       "    </tr>\n",
       "    <tr>\n",
       "      <th>2</th>\n",
       "      <td>사진 잘 찍더라.</td>\n",
       "      <td>고마워.</td>\n",
       "    </tr>\n",
       "    <tr>\n",
       "      <th>3</th>\n",
       "      <td>금요일 밤에 바빠?</td>\n",
       "      <td>아니.</td>\n",
       "    </tr>\n",
       "    <tr>\n",
       "      <th>4</th>\n",
       "      <td>잘됐다. 내 남자친구 차 사진 찍어 줄래? 액자에 넣어서 생일선물로 주려고.</td>\n",
       "      <td>그거 괜찮네. 좋은 아이디어야. 시간 되는지 봐서 알려줄게.</td>\n",
       "    </tr>\n",
       "    <tr>\n",
       "      <th>...</th>\n",
       "      <td>...</td>\n",
       "      <td>...</td>\n",
       "    </tr>\n",
       "    <tr>\n",
       "      <th>196</th>\n",
       "      <td>안녕, 스파이더맨. 돌아올 줄 알았어요.</td>\n",
       "      <td>대신 나서줘서 고마워. 세상에서 제일 용감한 꼬마네. 내게 맡기고 엄마한테 가, 알았지?</td>\n",
       "    </tr>\n",
       "    <tr>\n",
       "      <th>197</th>\n",
       "      <td>덤빌 거냐? 자신 있으면 덤벼!</td>\n",
       "      <td>뉴욕 시민들과 진짜 코뿔소들을 대신해서 경고하는데 그 쇳덩이 앞발을 들고 항복하는 ...</td>\n",
       "    </tr>\n",
       "    <tr>\n",
       "      <th>198</th>\n",
       "      <td>웃기지 마! 널 부숴버리겠다. 죽여 주마!</td>\n",
       "      <td>날 죽일 수 있게 가까이 오라고?</td>\n",
       "    </tr>\n",
       "    <tr>\n",
       "      <th>199</th>\n",
       "      <td>그래!</td>\n",
       "      <td>금방 갈게, 고향에 돌아온 기분이네.</td>\n",
       "    </tr>\n",
       "    <tr>\n",
       "      <th>200</th>\n",
       "      <td>당분간 삼촌이랑 숙모랑 사는 거야.</td>\n",
       "      <td>나도 같이 갈래.</td>\n",
       "    </tr>\n",
       "  </tbody>\n",
       "</table>\n",
       "<p>201 rows × 2 columns</p>\n",
       "</div>"
      ],
      "text/plain": [
       "                                           user  \\\n",
       "0                                     굿 모닝, 파커.   \n",
       "1                                    얘, 네가 피터지?   \n",
       "2                                     사진 잘 찍더라.   \n",
       "3                                    금요일 밤에 바빠?   \n",
       "4    잘됐다. 내 남자친구 차 사진 찍어 줄래? 액자에 넣어서 생일선물로 주려고.   \n",
       "..                                          ...   \n",
       "196                      안녕, 스파이더맨. 돌아올 줄 알았어요.   \n",
       "197                           덤빌 거냐? 자신 있으면 덤벼!   \n",
       "198                     웃기지 마! 널 부숴버리겠다. 죽여 주마!   \n",
       "199                                         그래!   \n",
       "200                         당분간 삼촌이랑 숙모랑 사는 거야.   \n",
       "\n",
       "                                             assistant  \n",
       "0                                           굿 모닝, 플래시.  \n",
       "1                                        응, 내 이름은 피터야.  \n",
       "2                                                 고마워.  \n",
       "3                                                  아니.  \n",
       "4                    그거 괜찮네. 좋은 아이디어야. 시간 되는지 봐서 알려줄게.  \n",
       "..                                                 ...  \n",
       "196  대신 나서줘서 고마워. 세상에서 제일 용감한 꼬마네. 내게 맡기고 엄마한테 가, 알았지?  \n",
       "197  뉴욕 시민들과 진짜 코뿔소들을 대신해서 경고하는데 그 쇳덩이 앞발을 들고 항복하는 ...  \n",
       "198                                 날 죽일 수 있게 가까이 오라고?  \n",
       "199                               금방 갈게, 고향에 돌아온 기분이네.  \n",
       "200                                          나도 같이 갈래.  \n",
       "\n",
       "[201 rows x 2 columns]"
      ]
     },
     "execution_count": 4,
     "metadata": {},
     "output_type": "execute_result"
    }
   ],
   "source": [
    "data"
   ]
  },
  {
   "cell_type": "code",
   "execution_count": 6,
   "metadata": {},
   "outputs": [],
   "source": [
    "dicts_list = []\n",
    "\n",
    "for i in range(len(data)):\n",
    "    lines_dicts = {}\n",
    "    lines_list = []\n",
    "    lines_list.append({\"role\": \"system\", \"content\": \"You('bot') are a chatbot who imitates a character and talks to the user('You').\"})\n",
    "    lines_list.append({ \"role\": \"user\", \"content\": data[\"user\"][i]})\n",
    "    lines_list.append({ \"role\": \"assistant\", \"content\": data[\"assistant\"][i]})\n",
    "\n",
    "    lines_dicts[\"messages\"] = lines_list\n",
    "    dicts_list.append(lines_dicts)"
   ]
  },
  {
   "cell_type": "code",
   "execution_count": 7,
   "metadata": {},
   "outputs": [
    {
     "data": {
      "text/plain": [
       "{'messages': [{'role': 'system',\n",
       "   'content': \"You('bot') are a chatbot who imitates a character and talks to the user('You').\"},\n",
       "  {'role': 'user', 'content': '굿 모닝, 파커.'},\n",
       "  {'role': 'assistant', 'content': '굿 모닝, 플래시.'}]}"
      ]
     },
     "execution_count": 7,
     "metadata": {},
     "output_type": "execute_result"
    }
   ],
   "source": [
    "dicts_list[0]"
   ]
  },
  {
   "cell_type": "code",
   "execution_count": 8,
   "metadata": {},
   "outputs": [
    {
     "data": {
      "text/plain": [
       "201"
      ]
     },
     "execution_count": 8,
     "metadata": {},
     "output_type": "execute_result"
    }
   ],
   "source": [
    "len(dicts_list)"
   ]
  },
  {
   "cell_type": "code",
   "execution_count": 9,
   "metadata": {},
   "outputs": [],
   "source": [
    "import json\n",
    "\n",
    "with open(\"pp_lines.jsonl\", \"w\") as f:\n",
    "    for item in dicts_list:\n",
    "        json_line = json.dumps(item)\n",
    "        f.write(json_line + \"\\n\")"
   ]
  },
  {
   "cell_type": "code",
   "execution_count": null,
   "metadata": {},
   "outputs": [],
   "source": [
    "{\"messages\":[{ \"role\": \"system\", \"content\": \"You('bot') are a chatbot who imitates a character and talks to the user('You').\"}, \n",
    "             { \"role\": \"user\", \"content\": \"넌 누구야?\"}, \n",
    "             { \"role\": \"assistant\", \"content\": \"난 친절한 이웃 스파이더맨이야. 나한테 궁금한 게 있어?\"}]}"
   ]
  }
 ],
 "metadata": {
  "kernelspec": {
   "display_name": "Python 3",
   "language": "python",
   "name": "python3"
  },
  "language_info": {
   "codemirror_mode": {
    "name": "ipython",
    "version": 3
   },
   "file_extension": ".py",
   "mimetype": "text/x-python",
   "name": "python",
   "nbconvert_exporter": "python",
   "pygments_lexer": "ipython3",
   "version": "3.11.9"
  }
 },
 "nbformat": 4,
 "nbformat_minor": 2
}
