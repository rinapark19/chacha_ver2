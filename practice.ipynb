{
 "cells": [
  {
   "cell_type": "markdown",
   "metadata": {},
   "source": [
    "참고: https://github.com/malywut/gpt_examples/blob/main/Chap3_03_QuestionAnsweringOnPDF"
   ]
  },
  {
   "cell_type": "code",
   "execution_count": 21,
   "metadata": {},
   "outputs": [],
   "source": [
    "# 라이브러리\n",
    "\n",
    "import redis\n",
    "from pypdf import PdfReader\n",
    "from openai import OpenAI\n",
    "import os\n",
    "from dotenv import load_dotenv\n",
    "import numpy as np"
   ]
  },
  {
   "cell_type": "code",
   "execution_count": 19,
   "metadata": {},
   "outputs": [],
   "source": [
    "# 세팅\n",
    "\n",
    "INDEX_NAME = \"embeddings-index\"\n",
    "PREFIX = \"doc\"\n",
    "REDIS_HOST = \"localhost\"\n",
    "REDIS_PORT = 6379\n",
    "DISTANCE_METRIC = \"COSINE\"\n",
    "REDIS_PASSWORD = \"\"\n",
    "\n",
    "load_dotenv()\n",
    "client = OpenAI(api_key=os.getenv(\"OPENAI_API_KEY\"))"
   ]
  },
  {
   "cell_type": "code",
   "execution_count": 22,
   "metadata": {},
   "outputs": [],
   "source": [
    "# 레디스 클라이언트 초기화\n",
    "\n",
    "class DataService():\n",
    "    def __init__(self):\n",
    "        self.redis_client = redis.Redis(\n",
    "            host=REDIS_HOST,\n",
    "            port=REDIS_PORT,\n",
    "            password=REDIS_PASSWORD,\n",
    "        )\n",
    "    \n",
    "    # 임베딩을 레디스에 저장하는 함수\n",
    "    def load_data_to_redis(self, embeddings):\n",
    "        for embedding in embedding:\n",
    "            key = f\"{PREFIX}:{str(embedding['id'])}\"\n",
    "            embedding[\"vector\"] = np.array(embedding[\"vector\"], dtyp=np.float32).tobytes()\n",
    "            self.redis_client.hset(key, mapping=embedding)"
   ]
  },
  {
   "cell_type": "code",
   "execution_count": 20,
   "metadata": {},
   "outputs": [],
   "source": [
    "# PDF 파일에서 읽은 데이터로 임베딩을 생성하는 함수\n",
    "\n",
    "def pdf_to_embeddings(self, pdf_path: str, chunk_length: int = 1000):\n",
    "    # PDF 파일에서 데이터를 읽고 분할\n",
    "    reader = PdfReader(pdf_path)\n",
    "    chunks = []\n",
    "\n",
    "    for page in reader.pages:\n",
    "        text_page = page.extract_text()\n",
    "        chunks.extend([text_page[i:i+chunk_length]\n",
    "                       for i in range(0, len(text_page), chunk_length)])\n",
    "    \n",
    "    # 임베딩 생성\n",
    "    response = client.embeddings.create(model=\"text-embedding-ada-002\", input=chunks)\n",
    "    return [{'id': value['index'],\n",
    "             'vector': value['embedding'],\n",
    "             'text': chunks[value['index']]} for value in response['choices']]"
   ]
  },
  {
   "cell_type": "code",
   "execution_count": 1,
   "metadata": {},
   "outputs": [
    {
     "data": {
      "text/plain": [
       "True"
      ]
     },
     "execution_count": 1,
     "metadata": {},
     "output_type": "execute_result"
    }
   ],
   "source": [
    "import redis\n",
    "\n",
    "conn = redis.StrictRedis(host=\"127.0.0.1\", port=6379, db=0)\n",
    "conn.set(\"test\", \"hello, world\")"
   ]
  },
  {
   "cell_type": "markdown",
   "metadata": {},
   "source": [
    "redis 실행 명령어: redis-cli -p 6379"
   ]
  },
  {
   "cell_type": "markdown",
   "metadata": {},
   "source": [
    "docker 설치\n",
    "https://velog.io/@gmlstjq123/Docker-%EC%84%A4%EC%B9%98\n",
    "\n",
    "docker에 redis 설치하고 실행해서 연결하기(FT 명령어 쓰려면 도커 사용해야 함)\n",
    "https://redis.io/docs/latest/operate/oss_and_stack/install/install-stack/docker/\n",
    "\n",
    "나중에 streamlit 배포할 때 참고할 문서\n",
    "https://towardsai.net/p/machine-learning/a-step-by-step-guide-to-developing-a-streamlit-application-with-redis-data-storage-and-deploying-it-using-docker"
   ]
  }
 ],
 "metadata": {
  "kernelspec": {
   "display_name": "Python 3",
   "language": "python",
   "name": "python3"
  },
  "language_info": {
   "codemirror_mode": {
    "name": "ipython",
    "version": 3
   },
   "file_extension": ".py",
   "mimetype": "text/x-python",
   "name": "python",
   "nbconvert_exporter": "python",
   "pygments_lexer": "ipython3",
   "version": "3.11.9"
  }
 },
 "nbformat": 4,
 "nbformat_minor": 2
}
